{
 "cells": [
  {
   "cell_type": "markdown",
   "metadata": {
    "deletable": false,
    "editable": false
   },
   "source": [
    "# Visualization and Modern Data Science\n",
    "\n",
    "> Homework 4: Visualization and Modern Data Science, NTU, Spring, 2021.\n",
    "\n",
    "Kuo, Yao-Jen <yaojenkuo@ntu.edu.tw> from [DATAINPOINT](https://www.datainpoint.com)"
   ]
  },
  {
   "cell_type": "markdown",
   "metadata": {
    "deletable": false,
    "editable": false
   },
   "source": [
    "## Instructions\n",
    "\n",
    "- We've imported necessary modules/libraries at the beginning of each exercise.\n",
    "- We've put necessary files(if any) in the working directory of each exercise.\n",
    "- We've defined the names of functions/inputs/arguments for you.\n",
    "- Write down your solution between the comments `### BEGIN SOLUTION` and `### END SOLUTION`.\n",
    "- Running tests to see if your solutions are right: Kernel -> Restart & Run All -> Restart and Run All Cells.\n",
    "- You can run tests after each question or after finishing all questions.\n",
    "- REMEMBER to upload your `.ipynb` file to CEIBA before 2021-05-07 20:59:59 when you are done running tests."
   ]
  },
  {
   "cell_type": "code",
   "execution_count": 1,
   "metadata": {
    "deletable": false,
    "editable": false
   },
   "outputs": [],
   "source": [
    "import json\n",
    "import unittest"
   ]
  },
  {
   "cell_type": "markdown",
   "metadata": {},
   "source": [
    "## 00. Define a function named `celsius_to_fahrenheit(degree)` which converts Fahrenheit degrees to Celsius degrees.\n",
    "\n",
    "\\begin{equation}\n",
    "Fahrenheit^{\\circ} F = Celsius^{\\circ} C \\times \\frac{9}{5} + 32\n",
    "\\end{equation}\n",
    "\n",
    "- Expected inputs：a numeric `degree`\n",
    "- Expected outputs：a numeric"
   ]
  },
  {
   "cell_type": "code",
   "execution_count": 2,
   "metadata": {},
   "outputs": [],
   "source": [
    "def celsius_to_fahrenheit(degree):\n",
    "    \"\"\"\n",
    "    >>> celsius_to_fahrenheit(100)\n",
    "    212.0\n",
    "    >>> celsius_to_fahrenheit(0)\n",
    "    32.0\n",
    "    \"\"\"\n",
    "    ### BEGIN SOLUTION\n",
    "    f = degree * 9/5 + 32\n",
    "    return f\n",
    "    ### END SOLUTION"
   ]
  },
  {
   "cell_type": "markdown",
   "metadata": {},
   "source": [
    "## 01. Define a function named `fahrenheit_to_celsius(degree)` which converts Fahrenheit degrees to Celsius degrees.\n",
    "\n",
    "\\begin{equation}\n",
    "Celsius^{\\circ} C = (Fahrenheit^{\\circ} F - 32) \\times \\frac{5}{9}\n",
    "\\end{equation}\n",
    "\n",
    "- Expected inputs：a numeric `degree`\n",
    "- Expected outputs：a numeric"
   ]
  },
  {
   "cell_type": "code",
   "execution_count": 3,
   "metadata": {},
   "outputs": [],
   "source": [
    "def fahrenheit_to_celsius(degree):\n",
    "    \"\"\"\n",
    "    >>> fahrenheit_to_celsius(212)\n",
    "    100.0\n",
    "    >>> fahrenheit_to_celsius(32)\n",
    "    0.0\n",
    "    \"\"\"\n",
    "    ### BEGIN SOLUTION\n",
    "    c = (degree - 32) * 5/9\n",
    "    return c\n",
    "    ### END SOLUTION"
   ]
  },
  {
   "cell_type": "markdown",
   "metadata": {},
   "source": [
    "## 02. Define a function named `is_odd(x)` which returns whether x is an odd or not.\n",
    "\n",
    "- Expected inputs：an integer `x`\n",
    "- Expected outputs：a bool"
   ]
  },
  {
   "cell_type": "code",
   "execution_count": 4,
   "metadata": {},
   "outputs": [],
   "source": [
    "def is_odd(x):\n",
    "    \"\"\"\n",
    "    >>> is_odd(0)\n",
    "    False\n",
    "    >>> is_odd(1)\n",
    "    True\n",
    "    >>> is_odd(2)\n",
    "    False\n",
    "    >>> is_odd(3)\n",
    "    True\n",
    "    \"\"\"\n",
    "    ### BEGIN SOLUTION\n",
    "    if x % 2 == 0:\n",
    "        return(False)\n",
    "    else:\n",
    "        return(True)\n",
    "        \n",
    "    ### END SOLUTION"
   ]
  },
  {
   "cell_type": "markdown",
   "metadata": {},
   "source": [
    "## 03. Define a function named `is_a_factor(x, y)` which returns whether x is a factor of y or not.\n",
    "\n",
    "- Expected inputs：2 integers `x` and `y`\n",
    "- Expected outputs：a bool"
   ]
  },
  {
   "cell_type": "code",
   "execution_count": 5,
   "metadata": {},
   "outputs": [],
   "source": [
    "def is_a_factor(x, y):\n",
    "    \"\"\"\n",
    "    >>> is_a_factor(1, 3)\n",
    "    True\n",
    "    >>> is_a_factor(2, 3)\n",
    "    False\n",
    "    >>> is_a_factor(3, 3)\n",
    "    True\n",
    "    >>> is_a_factor(1, 4)\n",
    "    True\n",
    "    >>> is_a_factor(2, 4)\n",
    "    True\n",
    "    >>> is_a_factor(3, 4)\n",
    "    False\n",
    "    >>> is_a_factor(4, 4)\n",
    "    True\n",
    "    \"\"\"\n",
    "    ### BEGIN SOLUTION\n",
    "    if y % x == 0:\n",
    "        return(True)\n",
    "    else:\n",
    "        return(False)\n",
    "    ### END SOLUTION"
   ]
  },
  {
   "cell_type": "markdown",
   "metadata": {},
   "source": [
    "## 04. Define a function named `is_a_none(x)` which returns whether x is a `NoneType` or not.\n",
    "\n",
    "- Expected inputs：a `x` with unknown type\n",
    "- Expected outputs：a bool"
   ]
  },
  {
   "cell_type": "code",
   "execution_count": 6,
   "metadata": {},
   "outputs": [],
   "source": [
    "def is_a_none(x):\n",
    "    \"\"\"\n",
    "    >>> is_a_none('None')\n",
    "    False\n",
    "    >>> is_a_none('')\n",
    "    False\n",
    "    >>> is_a_none(0)\n",
    "    False\n",
    "    >>> is_a_none(False)\n",
    "    False\n",
    "    >>> is_a_none(None)\n",
    "    True\n",
    "    \"\"\"\n",
    "    ### BEGIN SOLUTION\n",
    "    if x == None:\n",
    "        return(True)\n",
    "    else: \n",
    "        return(False)\n",
    "    ### END SOLUTION"
   ]
  },
  {
   "cell_type": "markdown",
   "metadata": {},
   "source": [
    "## 05. Define a function named `is_a_bool(x)` which returns whether x is a `bool` or not.\n",
    "\n",
    "- Expected inputs：an unknown type `x`\n",
    "- Expected outputs：a bool"
   ]
  },
  {
   "cell_type": "code",
   "execution_count": 7,
   "metadata": {},
   "outputs": [],
   "source": [
    "def is_a_bool(x):\n",
    "    \"\"\"\n",
    "    >>> is_a_bool('False')\n",
    "    False\n",
    "    >>> is_a_bool('True')\n",
    "    False\n",
    "    >>> is_a_bool(0)\n",
    "    False\n",
    "    >>> is_a_bool(1)\n",
    "    False\n",
    "    >>> is_a_bool(True)\n",
    "    True\n",
    "    >>> is_a_bool(False)\n",
    "    True\n",
    "    \"\"\"\n",
    "    ### BEGIN SOLUTION\n",
    "    if type(x) == bool:\n",
    "        return(True)\n",
    "    else: \n",
    "        return(False)\n",
    "    ### END SOLUTION"
   ]
  },
  {
   "cell_type": "markdown",
   "metadata": {},
   "source": [
    "## 06. Define a function named `contains_vowels(x)` which returns whether x contains one of the vowels (a, e, i, o, u) or not.\n",
    "\n",
    "- Expected inputs：a string `x`\n",
    "- Expected outputs：a bool"
   ]
  },
  {
   "cell_type": "code",
   "execution_count": 8,
   "metadata": {},
   "outputs": [],
   "source": [
    "def contains_vowels(x):\n",
    "    \"\"\"\n",
    "    >>> contains_vowels('pythn')\n",
    "    False\n",
    "    >>> contains_vowels('ncnd')\n",
    "    False\n",
    "    >>> contains_vowels('rtclt')\n",
    "    False\n",
    "    >>> contains_vowels('python')\n",
    "    True\n",
    "    >>> contains_vowels('anaconda')\n",
    "    True\n",
    "    >>> contains_vowels('reticulate')\n",
    "    True\n",
    "    \"\"\"\n",
    "    ### BEGIN SOLUTION\n",
    "    vowels = ['a', 'e', 'i', 'o', 'u']\n",
    "    a = False\n",
    "    for i in vowels:\n",
    "        if i in x:\n",
    "            a = True\n",
    "            break\n",
    "    return a\n",
    "    ### END SOLUTION"
   ]
  },
  {
   "cell_type": "markdown",
   "metadata": {},
   "source": [
    "## 07. Define a function named `contains_all_the_vowels(x)` which returns whether x contains all the vowels (a, e, i, o, u) or not.\n",
    "\n",
    "- Expected inputs：a string `x`\n",
    "- Expected outputs：a bool"
   ]
  },
  {
   "cell_type": "code",
   "execution_count": 9,
   "metadata": {},
   "outputs": [],
   "source": [
    "def contains_all_the_vowels(x):\n",
    "    \"\"\"\n",
    "    >>> contains_all_the_vowels('python')\n",
    "    False\n",
    "    >>> contains_all_the_vowels('anaconda')\n",
    "    False\n",
    "    >>> contains_all_the_vowels('reticulate')\n",
    "    False\n",
    "    >>> contains_all_the_vowels('python anaconda')\n",
    "    False\n",
    "    >>> contains_all_the_vowels('anaconda reticulate')\n",
    "    True\n",
    "    \"\"\"\n",
    "    ### BEGIN SOLUTION\n",
    "    vowels = ['a', 'e', 'i', 'o', 'u']\n",
    "    \n",
    "    for i in vowels:\n",
    "        if i not in x:\n",
    "            return False\n",
    "    \n",
    "    return True\n",
    "    ### END SOLUTION"
   ]
  },
  {
   "cell_type": "markdown",
   "metadata": {},
   "source": [
    "## 08. Define a function named `load_teams_json` that is able to load `teams.json` in our working directory and returns a `dict`.\n",
    "\n",
    "PS You may reach out to standard library `json` <https://docs.python.org/3/library/json.html> for help.(Actually we've imported for you in the beginning!)\n",
    "\n",
    "- Expected inputs: a file `teams.json`\n",
    "- Expected outputs：a dict"
   ]
  },
  {
   "cell_type": "code",
   "execution_count": 10,
   "metadata": {},
   "outputs": [],
   "source": [
    "def load_teams_json(json_file):\n",
    "    \"\"\"\n",
    "    >>> teams = load_teams_json('teams.json')\n",
    "    >>> type(teams)\n",
    "    dict\n",
    "    >>> len(teams)\n",
    "    2\n",
    "    >>> teams.keys()\n",
    "    dict_keys(['_internal', 'league'])\n",
    "    \"\"\"\n",
    "    ### BEGIN SOLUTION\n",
    "    test = open(json_file)\n",
    "    test_list = json.load(test)\n",
    "    return test_list\n",
    "    ### END SOLUTION"
   ]
  },
  {
   "cell_type": "markdown",
   "metadata": {},
   "source": [
    "## 09. Define a function named `find_celtics_and_lakers` that is able to extract 2 teams: Boston Celtics and Los Angeles Lakers.\n",
    "\n",
    "- Expected inputs: a file `teams.json`\n",
    "- Expected outputs：a list"
   ]
  },
  {
   "cell_type": "code",
   "execution_count": 11,
   "metadata": {},
   "outputs": [],
   "source": [
    "def find_celtics_and_lakers(json_file):\n",
    "    \"\"\"\n",
    "    >>> celtics_and_lakers = find_celtics_and_lakers('teams.json')\n",
    "    >>> type(celtics_and_lakers)\n",
    "    list\n",
    "    >>> len(celtics_and_lakers)\n",
    "    2\n",
    "    >>> celtics_and_lakers[0]\n",
    "    {'isNBAFranchise': True,\n",
    "     'isAllStar': False,\n",
    "     'city': 'Boston',\n",
    "     'altCityName': 'Boston',\n",
    "     'fullName': 'Boston Celtics',\n",
    "     'tricode': 'BOS',\n",
    "     'teamId': '1610612738',\n",
    "     'nickname': 'Celtics',\n",
    "     'urlName': 'celtics',\n",
    "     'teamShortName': 'Boston',\n",
    "     'confName': 'East',\n",
    "     'divName': 'Atlantic'}\n",
    "    >>> celtics_and_lakers[1]\n",
    "    {'isNBAFranchise': True,\n",
    "     'isAllStar': False,\n",
    "     'city': 'Los Angeles',\n",
    "     'altCityName': 'Los Angeles Lakers',\n",
    "     'fullName': 'Los Angeles Lakers',\n",
    "     'tricode': 'LAL',\n",
    "     'teamId': '1610612747',\n",
    "     'nickname': 'Lakers',\n",
    "     'urlName': 'lakers',\n",
    "     'teamShortName': 'L.A. Lakers',\n",
    "     'confName': 'West',\n",
    "     'divName': 'Pacific'}\n",
    "    \"\"\"\n",
    "    ### BEGIN SOLUTION\n",
    "    \n",
    "    test = open('teams.json')\n",
    "    test_list = json.load(test)\n",
    "    test.close()\n",
    "    # print(test_list['league']['standard'])\n",
    "    ret = []\n",
    "\n",
    "    for team in test_list['league']['standard']:\n",
    "        if team['fullName'] in ['Boston Celtics', 'Los Angeles Lakers']:\n",
    "            ret.append(team)\n",
    "    return ret\n",
    "    \n",
    "    ### END SOLUTION"
   ]
  },
  {
   "cell_type": "markdown",
   "metadata": {
    "deletable": false,
    "editable": false
   },
   "source": [
    "## Run tests！\n",
    "\n",
    "Kernel -> Restart & Run All -> Restart and Run All Cells."
   ]
  },
  {
   "cell_type": "code",
   "execution_count": 12,
   "metadata": {
    "deletable": false,
    "editable": false
   },
   "outputs": [
    {
     "name": "stderr",
     "output_type": "stream",
     "text": [
      "test_00_celsius_to_fahrenheit (__main__.TestHomeworkFour) ... ok\n",
      "test_01_fahrenheit_to_celsius (__main__.TestHomeworkFour) ... ok\n",
      "test_02_is_odd (__main__.TestHomeworkFour) ... ok\n",
      "test_03_is_a_factor (__main__.TestHomeworkFour) ... ok\n",
      "test_04_is_a_none (__main__.TestHomeworkFour) ... ok\n",
      "test_05_is_a_bool (__main__.TestHomeworkFour) ... ok\n",
      "test_06_contains_vowels (__main__.TestHomeworkFour) ... ok\n",
      "test_07_contains_all_the_vowels (__main__.TestHomeworkFour) ... ok\n",
      "test_08_load_teams_json (__main__.TestHomeworkFour) ... ok\n",
      "test_09_find_celtics_and_lakers (__main__.TestHomeworkFour) ... ok\n",
      "\n",
      "----------------------------------------------------------------------\n",
      "Ran 10 tests in 0.005s\n",
      "\n",
      "OK\n"
     ]
    }
   ],
   "source": [
    "class TestHomeworkFour(unittest.TestCase):\n",
    "    def test_00_celsius_to_fahrenheit(self):\n",
    "        self.assertAlmostEqual(celsius_to_fahrenheit(100), 212.0)\n",
    "        self.assertAlmostEqual(celsius_to_fahrenheit(0), 32.0)\n",
    "    def test_01_fahrenheit_to_celsius(self):\n",
    "        self.assertAlmostEqual(fahrenheit_to_celsius(212), 100.0)\n",
    "        self.assertAlmostEqual(fahrenheit_to_celsius(32), 0.0)\n",
    "    def test_02_is_odd(self):\n",
    "        self.assertFalse(is_odd(0))\n",
    "        self.assertTrue(is_odd(1))\n",
    "        self.assertFalse(is_odd(2))\n",
    "        self.assertTrue(is_odd(3))\n",
    "    def test_03_is_a_factor(self):\n",
    "        self.assertTrue(is_a_factor(1, 2))\n",
    "        self.assertTrue(is_a_factor(2, 2))\n",
    "        self.assertTrue(is_a_factor(1, 3))\n",
    "        self.assertFalse(is_a_factor(2, 3))\n",
    "        self.assertTrue(is_a_factor(1, 4))\n",
    "        self.assertTrue(is_a_factor(2, 4))\n",
    "        self.assertFalse(is_a_factor(3, 4))\n",
    "        self.assertTrue(is_a_factor(4, 4))\n",
    "    def test_04_is_a_none(self):\n",
    "        self.assertFalse(is_a_none('None'))\n",
    "        self.assertFalse(is_a_none(''))\n",
    "        self.assertFalse(is_a_none(0))\n",
    "        self.assertFalse(is_a_none(False))\n",
    "        self.assertTrue(is_a_none(None))\n",
    "    def test_05_is_a_bool(self):\n",
    "        self.assertFalse(is_a_bool('False'))\n",
    "        self.assertFalse(is_a_bool('True'))\n",
    "        self.assertFalse(is_a_bool(0))\n",
    "        self.assertFalse(is_a_bool(1))\n",
    "        self.assertTrue(is_a_bool(True))\n",
    "        self.assertTrue(is_a_bool(False))\n",
    "    def test_06_contains_vowels(self):\n",
    "        self.assertFalse(contains_vowels('pythn'))\n",
    "        self.assertFalse(contains_vowels('ncnd'))\n",
    "        self.assertFalse(contains_vowels('rtclt'))\n",
    "        self.assertTrue(contains_vowels('python'))\n",
    "        self.assertTrue(contains_vowels('anaconda'))\n",
    "        self.assertTrue(contains_vowels('reticulate'))\n",
    "    def test_07_contains_all_the_vowels(self):\n",
    "        self.assertFalse(contains_all_the_vowels('python'))\n",
    "        self.assertFalse(contains_all_the_vowels('anaconda'))\n",
    "        self.assertFalse(contains_all_the_vowels('reticulate'))\n",
    "        self.assertFalse(contains_all_the_vowels('python anaconda'))\n",
    "        self.assertTrue(contains_all_the_vowels('anaconda reticulate'))\n",
    "    def test_08_load_teams_json(self):\n",
    "        teams = load_teams_json('teams.json')\n",
    "        self.assertIsInstance(teams, dict)\n",
    "        self.assertEqual(len(teams), 2)\n",
    "        keys = set(teams.keys())\n",
    "        self.assertTrue('_internal' in keys)\n",
    "        self.assertTrue('league' in keys)\n",
    "    def test_09_find_celtics_and_lakers(self):\n",
    "        celtics_and_lakers = find_celtics_and_lakers('teams.json')\n",
    "        self.assertIsInstance(celtics_and_lakers, list)\n",
    "        self.assertEqual(len(celtics_and_lakers), 2)\n",
    "        self.assertEqual(len(celtics_and_lakers[0]), 12)\n",
    "        self.assertEqual(len(celtics_and_lakers[1]), 12)\n",
    "        self.assertEqual(celtics_and_lakers[0]['teamShortName'], 'Boston')\n",
    "        self.assertEqual(celtics_and_lakers[1]['teamShortName'], 'L.A. Lakers')\n",
    "    \n",
    "suite = unittest.TestLoader().loadTestsFromTestCase(TestHomeworkFour)\n",
    "runner = unittest.TextTestRunner(verbosity=2)\n",
    "test_results = runner.run(suite)\n",
    "number_of_failures = len(test_results.failures)\n",
    "number_of_errors = len(test_results.errors)\n",
    "number_of_test_runs = test_results.testsRun\n",
    "number_of_successes = number_of_test_runs - (number_of_failures + number_of_errors)"
   ]
  },
  {
   "cell_type": "code",
   "execution_count": 13,
   "metadata": {
    "deletable": false,
    "editable": false
   },
   "outputs": [
    {
     "name": "stdout",
     "output_type": "stream",
     "text": [
      "You've got 10 successes among 10 questions.\n"
     ]
    }
   ],
   "source": [
    "print(\"You've got {} successes among {} questions.\".format(number_of_successes, number_of_test_runs))"
   ]
  }
 ],
 "metadata": {
  "kernelspec": {
   "display_name": "Python 3",
   "language": "python",
   "name": "python3"
  },
  "language_info": {
   "codemirror_mode": {
    "name": "ipython",
    "version": 3
   },
   "file_extension": ".py",
   "mimetype": "text/x-python",
   "name": "python",
   "nbconvert_exporter": "python",
   "pygments_lexer": "ipython3",
   "version": "3.8.5"
  }
 },
 "nbformat": 4,
 "nbformat_minor": 4
}
