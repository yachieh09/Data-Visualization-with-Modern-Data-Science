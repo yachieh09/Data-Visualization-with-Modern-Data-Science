{
 "cells": [
  {
   "cell_type": "markdown",
   "metadata": {
    "deletable": false,
    "editable": false
   },
   "source": [
    "# Visualization and Modern Data Science\n",
    "\n",
    "> Homework 3: Visualization and Modern Data Science, NTU, Spring, 2021.\n",
    "\n",
    "Kuo, Yao-Jen <yaojenkuo@ntu.edu.tw> from [DATAINPOINT](https://www.datainpoint.com)"
   ]
  },
  {
   "cell_type": "code",
   "execution_count": 1,
   "metadata": {
    "deletable": false,
    "editable": false
   },
   "outputs": [],
   "source": [
    "import sqlite3\n",
    "import unittest\n",
    "import numpy as np\n",
    "import pandas as pd\n",
    "conn = sqlite3.connect('imdb.db')"
   ]
  },
  {
   "cell_type": "markdown",
   "metadata": {},
   "source": [
    "## Write a query that is able to reclassify movies according to `release_year`, to recode `release_year >= 2000` with 1 otherwise with 0. \n",
    "\n",
    "- Expected inputs：a query string.\n",
    "- Expected outputs：a (2, 2) result.\n",
    "\n",
    "```\n",
    "   after_millennium  number_of_movies\n",
    "0                 0               149\n",
    "1                 1               101\n",
    "```"
   ]
  },
  {
   "cell_type": "code",
   "execution_count": 2,
   "metadata": {},
   "outputs": [],
   "source": [
    "reclassify_movies_on_release_year =\\\n",
    "\"\"\"\n",
    "-- BEGIN SOLUTION\n",
    "select CASE WHEN release_year >= 2000 THEN 1 ELSE 0 END AS after_millennium , count(*) AS number_of_movies \n",
    "from movies\n",
    "GROUP BY after_millennium;\n",
    "-- END SOLUTION\n",
    "\"\"\""
   ]
  },
  {
   "cell_type": "markdown",
   "metadata": {},
   "source": [
    "## Write a query that is able to reclassify movies according to `rating`, to recode `rating >= 8.6` with 'Awesome', `rating >= 8.3` with 'Terrific' otherwise with 'Great' as specified. \n",
    "\n",
    "- Expected inputs：a query string.\n",
    "- Expected outputs：a (3, 2) result.\n",
    "\n",
    "```\n",
    "  rating_category  number_of_movies\n",
    "0         Awesome                31\n",
    "1           Great               127\n",
    "2        Terrific                92\n",
    "```"
   ]
  },
  {
   "cell_type": "code",
   "execution_count": 3,
   "metadata": {},
   "outputs": [],
   "source": [
    "reclassify_movies_on_rating =\\\n",
    "\"\"\"\n",
    "-- BEGIN SOLUTION\n",
    "select CASE WHEN rating >= 8.6 THEN 'Awesome' \n",
    "            WHEN rating < 8.3 THEN 'Great' ELSE 'Terrific' END AS rating_category , count(*) AS number_of_movies \n",
    "from movies\n",
    "GROUP BY rating_category;\n",
    "-- END SOLUTION\n",
    "\"\"\""
   ]
  },
  {
   "cell_type": "markdown",
   "metadata": {},
   "source": [
    "## Write a query that is able to find the shortest/longest movie according to `runtime`. Show the query result as specified.\n",
    "\n",
    "- Expected inputs：a query string.\n",
    "- Expected outputs：a (2, 6) result.\n",
    "\n",
    "```\n",
    "    id               title  release_year  rating        director  runtime\n",
    "0  195        Sherlock Jr.          1924     8.2   Buster Keaton       45\n",
    "1  229  Gangs of Wasseypur          2012     8.2  Anurag Kashyap      321\n",
    "```"
   ]
  },
  {
   "cell_type": "code",
   "execution_count": 4,
   "metadata": {},
   "outputs": [],
   "source": [
    "find_shortest_longest_movies =\\\n",
    "\"\"\"\n",
    "-- BEGIN SOLUTION\n",
    "select * \n",
    "from movies\n",
    "where runtime = (select min(runtime) from movies)\n",
    "UNION\n",
    "select * \n",
    "from movies\n",
    "where runtime = (select max(runtime) from movies);\n",
    "-- END SOLUTION\n",
    "\"\"\""
   ]
  },
  {
   "cell_type": "markdown",
   "metadata": {},
   "source": [
    "## Write a query that is able to find the oldest/lastest movie according to `release_year`. Show the query result as specified.\n",
    "\n",
    "- Expected inputs：a query string.\n",
    "- Expected outputs：a (2, 6) result.\n",
    "\n",
    "```\n",
    "    id                         title  release_year  rating         director  \\\n",
    "0   99                       The Kid          1921     8.3  Charles Chaplin   \n",
    "1  167  Zack Snyder's Justice League          2021     8.3      Zack Snyder   \n",
    "\n",
    "   runtime  \n",
    "0       68  \n",
    "1      242 \n",
    "```"
   ]
  },
  {
   "cell_type": "code",
   "execution_count": 5,
   "metadata": {},
   "outputs": [],
   "source": [
    "find_oldest_latest_movies =\\\n",
    "\"\"\"\n",
    "-- BEGIN SOLUTION\n",
    "select * \n",
    "from movies\n",
    "where release_year = (select min(release_year) from movies)\n",
    "UNION\n",
    "select * \n",
    "from movies\n",
    "where release_year = (select max(release_year) from movies);\n",
    "-- END SOLUTION\n",
    "\"\"\""
   ]
  },
  {
   "cell_type": "markdown",
   "metadata": {},
   "source": [
    "## Write a query that is able to show the number of movies directed by each director according to `director`. Show the query result as specified.\n",
    "\n",
    "- Expected inputs：a query string.\n",
    "- Expected outputs：a (157, 2) result.\n",
    "\n",
    "```\n",
    "              director  number_of_movies\n",
    "0    Christopher Nolan                 7\n",
    "1      Martin Scorsese                 7\n",
    "2      Stanley Kubrick                 7\n",
    "3       Akira Kurosawa                 6\n",
    "4     Alfred Hitchcock                 6\n",
    "..                 ...               ...\n",
    "152       Yasujirô Ozu                 1\n",
    "153       Yavuz Turgul                 1\n",
    "154        Zack Snyder                 1\n",
    "155     Zaza Urushadze                 1\n",
    "156        Çagan Irmak                 1\n",
    "\n",
    "[157 rows x 2 columns]\n",
    "```"
   ]
  },
  {
   "cell_type": "code",
   "execution_count": 6,
   "metadata": {},
   "outputs": [],
   "source": [
    "count_movies_by_director =\\\n",
    "\"\"\"\n",
    "-- BEGIN SOLUTION\n",
    "select director , count(*) AS number_of_movies\n",
    "From movies\n",
    "Group by director\n",
    "Order by number_of_movies DESC;\n",
    "-- END SOLUTION\n",
    "\"\"\""
   ]
  },
  {
   "cell_type": "markdown",
   "metadata": {},
   "source": [
    "## Based on the previous query result, write a query that is able to extract the movies directed by directors with over 3 movies (`>3`) on the top 250 rated movies. Show the query result as specified.\n",
    "\n",
    "- Expected inputs：a query string.\n",
    "- Expected outputs：a (71, 2) result.\n",
    "\n",
    "```\n",
    "            director                                          title\n",
    "0     Akira Kurosawa                                  Seven Samurai\n",
    "1     Akira Kurosawa                                   High and Low\n",
    "2     Akira Kurosawa                                          Ikiru\n",
    "3     Akira Kurosawa                                        Yojimbo\n",
    "4     Akira Kurosawa                                       Rashomon\n",
    "..               ...                                            ...\n",
    "66  Steven Spielberg                            Saving Private Ryan\n",
    "67  Steven Spielberg  Indiana Jones and the Raiders of the Lost Ark\n",
    "68  Steven Spielberg             Indiana Jones and the Last Crusade\n",
    "69  Steven Spielberg                                  Jurassic Park\n",
    "70  Steven Spielberg                            Catch Me If You Can\n",
    "\n",
    "[71 rows x 2 columns]\n",
    "```"
   ]
  },
  {
   "cell_type": "code",
   "execution_count": 7,
   "metadata": {},
   "outputs": [],
   "source": [
    "filter_movies_by_top_rated_directors =\\\n",
    "\"\"\"\n",
    "-- BEGIN SOLUTION\n",
    "select movies.director AS director , title \n",
    "from movies\n",
    "inner join (\n",
    "select director , count(*) AS number_of_movies\n",
    "from (select * From movies order by rating DESC limit 250)\n",
    "Group by director\n",
    "HAVING number_of_movies > 3\n",
    "order by number_of_movies DESC) AS t\n",
    "ON movies.director = t.director \n",
    "order by movies.director;\n",
    "-- END SOLUTION\n",
    "\"\"\""
   ]
  },
  {
   "cell_type": "markdown",
   "metadata": {},
   "source": [
    "## Write a query that is able to find the casting of The Shawshank Redemption with sub-queries. Show the query result as specified.\n",
    "\n",
    "- Expected inputs：a query string.\n",
    "- Expected outputs：a (15, 1) result.\n",
    "\n",
    "```\n",
    "                 name\n",
    "0          Bob Gunton\n",
    "1         Brian Libby\n",
    "2        Clancy Brown\n",
    "3        David Proval\n",
    "4         Gil Bellows\n",
    "5      James Whitmore\n",
    "6      Jeffrey DeMunn\n",
    "7        Joseph Ragno\n",
    "8     Jude Ciccolella\n",
    "9   Larry Brandenburg\n",
    "10       Mark Rolston\n",
    "11     Morgan Freeman\n",
    "12      Neil Giuntoli\n",
    "13        Tim Robbins\n",
    "14     William Sadler\n",
    "```"
   ]
  },
  {
   "cell_type": "code",
   "execution_count": 8,
   "metadata": {},
   "outputs": [],
   "source": [
    "find_the_shawshank_redemption_casting_with_sub_query =\\\n",
    "\"\"\"\n",
    "-- BEGIN SOLUTION\n",
    "select name\n",
    "from (select actor_id from casting\n",
    "where movie_id = (select id from movies where title = 'The Shawshank Redemption')) as new\n",
    "left join actors on new.actor_id = actors.id\n",
    "order by name ASC;\n",
    "-- END SOLUTION\n",
    "\"\"\""
   ]
  },
  {
   "cell_type": "markdown",
   "metadata": {},
   "source": [
    "## Write a query that is able to find the casting of The Shawshank Redemption with `JOIN`. Show the query result as specified.\n",
    "\n",
    "- Expected inputs：a query string.\n",
    "- Expected outputs：a (15, 3) result.\n",
    "\n",
    "```\n",
    "                       title  ord               name\n",
    "0   The Shawshank Redemption    1        Tim Robbins\n",
    "1   The Shawshank Redemption    2     Morgan Freeman\n",
    "2   The Shawshank Redemption    3         Bob Gunton\n",
    "3   The Shawshank Redemption    4     William Sadler\n",
    "4   The Shawshank Redemption    5       Clancy Brown\n",
    "5   The Shawshank Redemption    6        Gil Bellows\n",
    "6   The Shawshank Redemption    7       Mark Rolston\n",
    "7   The Shawshank Redemption    8     James Whitmore\n",
    "8   The Shawshank Redemption    9     Jeffrey DeMunn\n",
    "9   The Shawshank Redemption   10  Larry Brandenburg\n",
    "10  The Shawshank Redemption   11      Neil Giuntoli\n",
    "11  The Shawshank Redemption   12        Brian Libby\n",
    "12  The Shawshank Redemption   13       David Proval\n",
    "13  The Shawshank Redemption   14       Joseph Ragno\n",
    "14  The Shawshank Redemption   15    Jude Ciccolella\n",
    "```"
   ]
  },
  {
   "cell_type": "code",
   "execution_count": 9,
   "metadata": {},
   "outputs": [],
   "source": [
    "find_the_shawshank_redemption_casting_with_join =\\\n",
    "\"\"\"\n",
    "-- BEGIN SOLUTION\n",
    "select title, ord , name from movies as m\n",
    "left join casting on m.id = casting.movie_id\n",
    "left join actors on casting.actor_id = actors.id\n",
    "where title = 'The Shawshank Redemption'\n",
    "order by ord ASC\n",
    "-- END SOLUTION\n",
    "\"\"\""
   ]
  },
  {
   "cell_type": "markdown",
   "metadata": {},
   "source": [
    "## Write a query that is able to find the movies starred by Tom Hanks or Leonardo DiCaprio.\n",
    "\n",
    "- Expected inputs：a query string.\n",
    "- Expected outputs：a (12, 3) result.\n",
    "\n",
    "```\n",
    "                      title  ord               name\n",
    "0       Catch Me If You Can    1  Leonardo DiCaprio\n",
    "1          Django Unchained    3  Leonardo DiCaprio\n",
    "2                 Inception    1  Leonardo DiCaprio\n",
    "3            Shutter Island    1  Leonardo DiCaprio\n",
    "4              The Departed    1  Leonardo DiCaprio\n",
    "5   The Wolf of Wall Street    1  Leonardo DiCaprio\n",
    "6       Catch Me If You Can    2          Tom Hanks\n",
    "7              Forrest Gump    1          Tom Hanks\n",
    "8       Saving Private Ryan    1          Tom Hanks\n",
    "9            The Green Mile    1          Tom Hanks\n",
    "10                Toy Story    1          Tom Hanks\n",
    "11              Toy Story 3    1          Tom Hanks\n",
    "```"
   ]
  },
  {
   "cell_type": "code",
   "execution_count": 10,
   "metadata": {},
   "outputs": [],
   "source": [
    "find_movies_starred_by_tom_hanks_or_leonardo_dicaprio =\\\n",
    "\"\"\"\n",
    "-- BEGIN SOLUTION\n",
    "select title, ord , name from movies as m\n",
    "left join casting on m.id = casting.movie_id\n",
    "left join actors on casting.actor_id = actors.id\n",
    "where name = 'Tom Hanks' OR name = 'Leonardo DiCaprio'\n",
    "order by title , name ASC;\n",
    "-- END SOLUTION\n",
    "\"\"\""
   ]
  },
  {
   "cell_type": "markdown",
   "metadata": {},
   "source": [
    "## Write a query that is able to find the movies starred by Leonardo DiCaprio and directed by Christopher Nolan.\n",
    "\n",
    "- Expected inputs：a query string.\n",
    "- Expected outputs：a (1, 4) result.\n",
    "\n",
    "```\n",
    "       title  release_year           director         lead_actor\n",
    "0  Inception          2010  Christopher Nolan  Leonardo DiCaprio\n",
    "```"
   ]
  },
  {
   "cell_type": "code",
   "execution_count": 11,
   "metadata": {},
   "outputs": [],
   "source": [
    "find_movies_starred_by_leonardo_dicaprio_and_directed_by_christoper_nolan =\\\n",
    "\"\"\"\n",
    "-- BEGIN SOLUTION\n",
    "select title, release_year , director , name AS lead_actor from movies as m\n",
    "left join casting on m.id = casting.movie_id\n",
    "left join actors on casting.actor_id = actors.id\n",
    "where director = 'Christopher Nolan' AND name = 'Leonardo DiCaprio';\n",
    "-- END SOLUTION\n",
    "\"\"\""
   ]
  },
  {
   "cell_type": "markdown",
   "metadata": {
    "deletable": false,
    "editable": false
   },
   "source": [
    "## Run tests！\n",
    "\n",
    "Kernel -> Restart & Run All -> Restart and Run All Cells."
   ]
  },
  {
   "cell_type": "code",
   "execution_count": null,
   "metadata": {},
   "outputs": [],
   "source": []
  },
  {
   "cell_type": "code",
   "execution_count": 12,
   "metadata": {
    "deletable": false,
    "editable": false
   },
   "outputs": [
    {
     "name": "stderr",
     "output_type": "stream",
     "text": [
      "test_01_reclassify_movies_on_release_year (__main__.TestHomeworkThree) ... ok\n",
      "test_02_reclassify_movies_on_rating (__main__.TestHomeworkThree) ... ok\n",
      "test_03_find_shortest_longest_movies (__main__.TestHomeworkThree) ... ok\n",
      "test_04_find_oldest_latest_movies (__main__.TestHomeworkThree) ... ok\n",
      "test_05_count_movies_by_director (__main__.TestHomeworkThree) ... ok\n",
      "test_06_filter_movies_by_top_rated_directors (__main__.TestHomeworkThree) ... ok\n",
      "test_07_find_the_shawshank_redemption_casting_with_sub_query (__main__.TestHomeworkThree) ... ok\n",
      "test_08_find_the_shawshank_redemption_casting_with_join (__main__.TestHomeworkThree) ... ok\n",
      "test_09_find_movies_starred_by_tom_hanks_or_leonardo_dicaprio (__main__.TestHomeworkThree) ... ok\n",
      "test_10_find_movies_starred_by_leonardo_dicaprio_and_directed_by_christoper_nolan (__main__.TestHomeworkThree) ... ok\n",
      "\n",
      "----------------------------------------------------------------------\n",
      "Ran 10 tests in 0.163s\n",
      "\n",
      "OK\n"
     ]
    }
   ],
   "source": [
    "class TestHomeworkThree(unittest.TestCase):\n",
    "    def test_01_reclassify_movies_on_release_year(self):\n",
    "        movies_on_release_year = pd.read_sql(reclassify_movies_on_release_year, conn)\n",
    "        self.assertEqual(movies_on_release_year.shape, (2, 2))\n",
    "        column_values = movies_on_release_year.iloc[:, 0].values\n",
    "        np.testing.assert_equal(column_values, np.array([0, 1]))\n",
    "        column_values = movies_on_release_year.iloc[:, 1].values\n",
    "        np.testing.assert_equal(column_values, np.array([149, 101]))\n",
    "    def test_02_reclassify_movies_on_rating(self):\n",
    "        movies_on_rating = pd.read_sql(reclassify_movies_on_rating, conn)\n",
    "        self.assertEqual(movies_on_rating.shape, (3, 2))\n",
    "        categories = movies_on_rating.iloc[:, 0].values\n",
    "        self.assertTrue('Awesome' in categories)\n",
    "        self.assertTrue('Great' in categories)\n",
    "        self.assertTrue('Terrific' in categories)\n",
    "    def test_03_find_shortest_longest_movies(self):\n",
    "        shortest_longest_movies = pd.read_sql(find_shortest_longest_movies, conn)\n",
    "        self.assertEqual(shortest_longest_movies.shape, (2, 6))\n",
    "        titles = shortest_longest_movies.iloc[:, 1].values\n",
    "        self.assertTrue('Sherlock Jr.' in titles)\n",
    "        self.assertTrue('Gangs of Wasseypur' in titles)\n",
    "    def test_04_find_oldest_latest_movies(self):\n",
    "        oldest_latest_movies = pd.read_sql(find_oldest_latest_movies, conn)\n",
    "        self.assertEqual(oldest_latest_movies.shape, (2, 6))\n",
    "        titles = oldest_latest_movies.iloc[:, 1].values\n",
    "        self.assertTrue('The Kid' in titles)\n",
    "        self.assertTrue('Zack Snyder\\'s Justice League' in titles)\n",
    "    def test_05_count_movies_by_director(self):\n",
    "        movies_by_director = pd.read_sql(count_movies_by_director, conn)\n",
    "        self.assertEqual(movies_by_director.shape, (157, 2))\n",
    "        directors = movies_by_director.iloc[:, 0].values\n",
    "        self.assertTrue('Christopher Nolan' in directors)\n",
    "        self.assertTrue('Alfred Hitchcock' in directors)\n",
    "    def test_06_filter_movies_by_top_rated_directors(self):\n",
    "        movies_by_top_rated_directors = pd.read_sql(filter_movies_by_top_rated_directors, conn)\n",
    "        self.assertEqual(movies_by_top_rated_directors.shape, (71, 2))\n",
    "        directors = set(movies_by_top_rated_directors.iloc[:, 0].values)\n",
    "        self.assertTrue('Akira Kurosawa' in directors)\n",
    "        self.assertTrue('Steven Spielberg' in directors)\n",
    "        titles = movies_by_top_rated_directors.iloc[:, 1].values\n",
    "        self.assertTrue('Saving Private Ryan' in titles)\n",
    "        self.assertTrue('Jurassic Park' in titles)\n",
    "        self.assertTrue('Catch Me If You Can' in titles)\n",
    "    def test_07_find_the_shawshank_redemption_casting_with_sub_query(self):\n",
    "        the_shawshank_redemption_casting_with_sub_query = pd.read_sql(find_the_shawshank_redemption_casting_with_sub_query, conn)\n",
    "        self.assertEqual(the_shawshank_redemption_casting_with_sub_query.shape, (15, 1))\n",
    "        names = the_shawshank_redemption_casting_with_sub_query.iloc[:, 0].values\n",
    "        self.assertTrue('Tim Robbins' in names)\n",
    "        self.assertTrue('Morgan Freeman' in names)\n",
    "    def test_08_find_the_shawshank_redemption_casting_with_join(self):\n",
    "        the_shawshank_redemption_casting_with_join = pd.read_sql(find_the_shawshank_redemption_casting_with_join, conn)\n",
    "        self.assertEqual(the_shawshank_redemption_casting_with_join.shape, (15, 3))\n",
    "        names = the_shawshank_redemption_casting_with_join.iloc[:, 2].values\n",
    "        self.assertTrue('Tim Robbins' in names)\n",
    "        self.assertTrue('Morgan Freeman' in names)\n",
    "    def test_09_find_movies_starred_by_tom_hanks_or_leonardo_dicaprio(self):\n",
    "        movies_starred_by_tom_hanks_or_leonardo_dicaprio = pd.read_sql(find_movies_starred_by_tom_hanks_or_leonardo_dicaprio, conn)\n",
    "        self.assertEqual(movies_starred_by_tom_hanks_or_leonardo_dicaprio.shape, (12, 3))\n",
    "        names = movies_starred_by_tom_hanks_or_leonardo_dicaprio.iloc[:, 2].values\n",
    "        self.assertTrue('Tom Hanks' in names)\n",
    "        self.assertTrue('Leonardo DiCaprio' in names)\n",
    "    def test_10_find_movies_starred_by_leonardo_dicaprio_and_directed_by_christoper_nolan(self):\n",
    "        movies_starred_by_leonardo_dicaprio_and_directed_by_christoper_nolan = pd.read_sql(find_movies_starred_by_leonardo_dicaprio_and_directed_by_christoper_nolan, conn)\n",
    "        self.assertEqual(movies_starred_by_leonardo_dicaprio_and_directed_by_christoper_nolan.shape, (1, 4))\n",
    "        titles = movies_starred_by_leonardo_dicaprio_and_directed_by_christoper_nolan.iloc[:, 0].values\n",
    "        self.assertTrue('Inception' in titles)\n",
    "        directors = movies_starred_by_leonardo_dicaprio_and_directed_by_christoper_nolan.iloc[:, 2].values\n",
    "        self.assertTrue('Christopher Nolan' in directors)\n",
    "        actors = movies_starred_by_leonardo_dicaprio_and_directed_by_christoper_nolan.iloc[:, 3].values\n",
    "        self.assertTrue('Leonardo DiCaprio' in actors)\n",
    "        \n",
    "suite = unittest.TestLoader().loadTestsFromTestCase(TestHomeworkThree)\n",
    "runner = unittest.TextTestRunner(verbosity=2)\n",
    "test_results = runner.run(suite)\n",
    "number_of_failures = len(test_results.failures)\n",
    "number_of_errors = len(test_results.errors)\n",
    "number_of_test_runs = test_results.testsRun\n",
    "number_of_successes = number_of_test_runs - (number_of_failures + number_of_errors)"
   ]
  },
  {
   "cell_type": "code",
   "execution_count": 13,
   "metadata": {
    "deletable": false,
    "editable": false
   },
   "outputs": [
    {
     "name": "stdout",
     "output_type": "stream",
     "text": [
      "You've got 10 successes among 10 questions.\n"
     ]
    }
   ],
   "source": [
    "print(\"You've got {} successes among {} questions.\".format(number_of_successes, number_of_test_runs))"
   ]
  }
 ],
 "metadata": {
  "kernelspec": {
   "display_name": "Python 3",
   "language": "python",
   "name": "python3"
  },
  "language_info": {
   "codemirror_mode": {
    "name": "ipython",
    "version": 3
   },
   "file_extension": ".py",
   "mimetype": "text/x-python",
   "name": "python",
   "nbconvert_exporter": "python",
   "pygments_lexer": "ipython3",
   "version": "3.8.5"
  }
 },
 "nbformat": 4,
 "nbformat_minor": 4
}
