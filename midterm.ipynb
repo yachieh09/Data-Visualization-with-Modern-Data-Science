{
 "cells": [
  {
   "cell_type": "markdown",
   "metadata": {
    "deletable": false,
    "editable": false
   },
   "source": [
    "# Visualization and Modern Data Science\n",
    "\n",
    "> Midterm A: Visualization and Modern Data Science, NTU, Spring, 2021.\n",
    "\n",
    "Kuo, Yao-Jen <yaojenkuo@ntu.edu.tw> from [DATAINPOINT](https://www.datainpoint.com)"
   ]
  },
  {
   "cell_type": "markdown",
   "metadata": {
    "deletable": false,
    "editable": false
   },
   "source": [
    "## Instructions\n",
    "\n",
    "- We've imported necessary modules/libraries and connected databases at the beginning of exercise.\n",
    "- We've defined the name of each query for you.\n",
    "- Write down your solution between the comments `-- BEGIN SOLUTION` and `-- END SOLUTION`.\n",
    "- Running tests to see if your solutions are right: Kernel -> Restart & Run All -> Restart and Run All Cells.\n",
    "- You can run tests after each question or after finishing all questions.\n",
    "- REMEMBER to upload your `.ipynb` file to CEIBA when you are done running tests."
   ]
  },
  {
   "cell_type": "code",
   "execution_count": 1,
   "metadata": {
    "deletable": false,
    "editable": false
   },
   "outputs": [
    {
     "data": {
      "text/plain": [
       "<sqlite3.Cursor at 0x7f8d48a73d50>"
      ]
     },
     "execution_count": 1,
     "metadata": {},
     "output_type": "execute_result"
    }
   ],
   "source": [
    "import sqlite3\n",
    "import unittest\n",
    "import numpy as np\n",
    "import pandas as pd\n",
    "conn = sqlite3.connect('imdb.db')\n",
    "conn.execute(\"\"\"ATTACH 'covid19.db' AS covid19\"\"\")\n",
    "conn.execute(\"\"\"ATTACH 'nba.db' AS nba\"\"\")"
   ]
  },
  {
   "cell_type": "markdown",
   "metadata": {},
   "source": [
    "## 01. Write a query that is able to summarize `daily_report` by countries as specified. \n",
    "\n",
    "- Expected inputs：a query string.\n",
    "- Expected outputs：a (192, 3) result.\n",
    "\n",
    "```\n",
    "       Country_Region  sum_confirmed  sum_deaths\n",
    "0                  US       30459802      552037\n",
    "1              Brazil       12748747      321515\n",
    "2               India       12149335      162468\n",
    "3              France        4705068       95798\n",
    "4              Russia        4494234       97219\n",
    "..                ...            ...         ...\n",
    "187        MS Zaandam              9           2\n",
    "188  Marshall Islands              4           0\n",
    "189             Samoa              3           0\n",
    "190           Vanuatu              3           0\n",
    "191        Micronesia              1           0\n",
    "\n",
    "[192 rows x 3 columns]\n",
    "```"
   ]
  },
  {
   "cell_type": "code",
   "execution_count": 2,
   "metadata": {},
   "outputs": [],
   "source": [
    "summarize_daily_report_by_countries =\\\n",
    "\"\"\"\n",
    "-- BEGIN SOLUTION\n",
    "select l.Country_region, SUM(d.Confirmed) AS sum_confirmed, SUM(d.Deaths) AS sum_deaths\n",
    "from daily_report AS d\n",
    "Join lookup_table AS l ON d.Combined_Key = l.Combined_Key\n",
    "Group by l.Country_Region\n",
    "Order by sum_confirmed DESC;\n",
    "-- END SOLUTION\n",
    "\"\"\""
   ]
  },
  {
   "cell_type": "markdown",
   "metadata": {},
   "source": [
    "## 02. Write a query that is able to show the top 20 confirmed states of US from `daily_report` as specified.\n",
    "\n",
    "- Expected inputs：a query string.\n",
    "- Expected outputs：a (20, 4) result.\n",
    "\n",
    "```\n",
    "   iso3  Province_State  sum_confirmed  sum_deaths\n",
    "0   USA      California        3668277       59240\n",
    "1   USA           Texas        2791910       48252\n",
    "2   USA         Florida        2057735       33425\n",
    "3   USA        New York        1873138       50299\n",
    "4   USA        Illinois        1244499       23579\n",
    "5   USA         Georgia        1059548       19055\n",
    "6   USA    Pennsylvania        1027678       25074\n",
    "7   USA            Ohio        1017566       18609\n",
    "8   USA  North Carolina         914132       12112\n",
    "9   USA      New Jersey         908816       24561\n",
    "10  USA         Arizona         841811       16967\n",
    "11  USA       Tennessee         811842       11904\n",
    "12  USA        Michigan         746351       17119\n",
    "13  USA         Indiana         686497       13039\n",
    "14  USA       Wisconsin         636041        7315\n",
    "15  USA   Massachusetts         635580       17185\n",
    "16  USA        Virginia         618976       10252\n",
    "17  USA        Missouri         581680        8853\n",
    "18  USA  South Carolina         551630        9146\n",
    "19  USA       Minnesota         519529        6926\n",
    "```"
   ]
  },
  {
   "cell_type": "code",
   "execution_count": 3,
   "metadata": {},
   "outputs": [],
   "source": [
    "summarize_daily_report_of_us_by_states =\\\n",
    "\"\"\"\n",
    "-- BEGIN SOLUTION\n",
    "select iso3 , Province_State , SUM(Confirmed) AS sum_confirmed , SUM(Deaths) AS sum_deaths\n",
    "from daily_report AS d\n",
    "Join lookup_table AS l ON d.Combined_Key = l.Combined_Key\n",
    "WHERE l.iso3 = \"USA\"\n",
    "GROUP BY Province_State\n",
    "ORDER by sum_confirmed DESC\n",
    "limit 20;\n",
    "-- END SOLUTION\n",
    "\"\"\""
   ]
  },
  {
   "cell_type": "markdown",
   "metadata": {},
   "source": [
    "## 03. Write a query that is able to find the casting actors/actress of \"Batman Trilogy\", show the query result as specified.\n",
    "\n",
    "- Expected inputs：a query string.\n",
    "- Expected outputs：a (45, 4) result.\n",
    "\n",
    "```\n",
    "             director trilogy                  title               actor_name\n",
    "0   Christopher Nolan      01          Batman Begins           Christian Bale\n",
    "1   Christopher Nolan      01          Batman Begins            Michael Caine\n",
    "2   Christopher Nolan      01          Batman Begins              Liam Neeson\n",
    "3   Christopher Nolan      01          Batman Begins             Katie Holmes\n",
    "4   Christopher Nolan      01          Batman Begins              Gary Oldman\n",
    "5   Christopher Nolan      01          Batman Begins           Cillian Murphy\n",
    "6   Christopher Nolan      01          Batman Begins            Tom Wilkinson\n",
    "7   Christopher Nolan      01          Batman Begins             Rutger Hauer\n",
    "8   Christopher Nolan      01          Batman Begins             Ken Watanabe\n",
    "9   Christopher Nolan      01          Batman Begins        Mark Boone Junior\n",
    "10  Christopher Nolan      01          Batman Begins             Linus Roache\n",
    "11  Christopher Nolan      01          Batman Begins           Morgan Freeman\n",
    "12  Christopher Nolan      01          Batman Begins             Larry Holden\n",
    "13  Christopher Nolan      01          Batman Begins            Gerard Murphy\n",
    "14  Christopher Nolan      01          Batman Begins          Colin McFarlane\n",
    "15  Christopher Nolan      02        The Dark Knight           Christian Bale\n",
    "16  Christopher Nolan      02        The Dark Knight             Heath Ledger\n",
    "17  Christopher Nolan      02        The Dark Knight            Aaron Eckhart\n",
    "18  Christopher Nolan      02        The Dark Knight            Michael Caine\n",
    "19  Christopher Nolan      02        The Dark Knight        Maggie Gyllenhaal\n",
    "20  Christopher Nolan      02        The Dark Knight              Gary Oldman\n",
    "21  Christopher Nolan      02        The Dark Knight           Morgan Freeman\n",
    "22  Christopher Nolan      02        The Dark Knight  Monique Gabriela Curnen\n",
    "23  Christopher Nolan      02        The Dark Knight                 Ron Dean\n",
    "24  Christopher Nolan      02        The Dark Knight           Cillian Murphy\n",
    "25  Christopher Nolan      02        The Dark Knight                 Chin Han\n",
    "26  Christopher Nolan      02        The Dark Knight         Nestor Carbonell\n",
    "27  Christopher Nolan      02        The Dark Knight             Eric Roberts\n",
    "28  Christopher Nolan      02        The Dark Knight           Ritchie Coster\n",
    "29  Christopher Nolan      02        The Dark Knight     Anthony Michael Hall\n",
    "30  Christopher Nolan      03  The Dark Knight Rises           Christian Bale\n",
    "31  Christopher Nolan      03  The Dark Knight Rises              Gary Oldman\n",
    "32  Christopher Nolan      03  The Dark Knight Rises                Tom Hardy\n",
    "33  Christopher Nolan      03  The Dark Knight Rises     Joseph Gordon-Levitt\n",
    "34  Christopher Nolan      03  The Dark Knight Rises            Anne Hathaway\n",
    "35  Christopher Nolan      03  The Dark Knight Rises         Marion Cotillard\n",
    "36  Christopher Nolan      03  The Dark Knight Rises           Morgan Freeman\n",
    "37  Christopher Nolan      03  The Dark Knight Rises            Michael Caine\n",
    "38  Christopher Nolan      03  The Dark Knight Rises           Matthew Modine\n",
    "39  Christopher Nolan      03  The Dark Knight Rises           Alon Aboutboul\n",
    "40  Christopher Nolan      03  The Dark Knight Rises           Ben Mendelsohn\n",
    "41  Christopher Nolan      03  The Dark Knight Rises              Burn Gorman\n",
    "42  Christopher Nolan      03  The Dark Knight Rises           Daniel Sunjata\n",
    "43  Christopher Nolan      03  The Dark Knight Rises             Aidan Gillen\n",
    "44  Christopher Nolan      03  The Dark Knight Rises              Sam Kennard\n",
    "```"
   ]
  },
  {
   "cell_type": "code",
   "execution_count": 4,
   "metadata": {},
   "outputs": [],
   "source": [
    "find_casting_of_batman_trilogy =\\\n",
    "\"\"\"\n",
    "-- BEGIN SOLUTION\n",
    "select director ,CASE WHEN title = \"Batman Begins\" THEN '01' WHEN title = \"The Dark Knight\" THEN '02' WHEN title = \"The Dark Knight Rises\" THEN '03' ELSE '04' END AS trilogy , title , name AS actor_name\n",
    "from movies AS m\n",
    "Join casting AS c on m.id = c.movie_id\n",
    "Join actors AS a on c.actor_id = a.id\n",
    "WHERE director = \"Christopher Nolan\"\n",
    "Order by trilogy ASC\n",
    "limit 45;\n",
    "-- END SOLUTION\n",
    "\"\"\""
   ]
  },
  {
   "cell_type": "markdown",
   "metadata": {},
   "source": [
    "## 04. Write a query that is able to find the 2 leading actors (whose `ord` are specified with 1 or 2) from movies directed by Steven Spielberg. Show the query result as specified.\n",
    "\n",
    "- Expected inputs：a query string.\n",
    "- Expected outputs：a (12, 3) result.\n",
    "\n",
    "```\n",
    "                                            title  ord               name\n",
    "0                                Schindler's List    1        Liam Neeson\n",
    "1                                Schindler's List    2       Ben Kingsley\n",
    "2                             Saving Private Ryan    1          Tom Hanks\n",
    "3                             Saving Private Ryan    2       Tom Sizemore\n",
    "4   Indiana Jones and the Raiders of the Lost Ark    1      Harrison Ford\n",
    "5   Indiana Jones and the Raiders of the Lost Ark    2        Karen Allen\n",
    "6              Indiana Jones and the Last Crusade    1      Harrison Ford\n",
    "7              Indiana Jones and the Last Crusade    2       Sean Connery\n",
    "8                                   Jurassic Park    1          Sam Neill\n",
    "9                                   Jurassic Park    2         Laura Dern\n",
    "10                            Catch Me If You Can    1  Leonardo DiCaprio\n",
    "11                            Catch Me If You Can    2          Tom Hanks\n",
    "```"
   ]
  },
  {
   "cell_type": "code",
   "execution_count": 5,
   "metadata": {},
   "outputs": [],
   "source": [
    "find_leading_actors_from_steven_spielbergs_movies =\\\n",
    "\"\"\"\n",
    "-- BEGIN SOLUTION\n",
    "select title, ord , name\n",
    "from movies AS m\n",
    "Join casting AS c on m.id = c.movie_id\n",
    "Join actors AS a on c.actor_id = a.id\n",
    "WHERE director = \"Steven Spielberg\" AND (ord = \"1\" OR ord = \"2\")\n",
    "-- END SOLUTION\n",
    "\"\"\""
   ]
  },
  {
   "cell_type": "markdown",
   "metadata": {},
   "source": [
    "## 05. Write a query that is able to find players of Los Angeles Lakers and Brooklyn Nets with their career stats. Show the query result as specified.\n",
    "\n",
    "- Expected inputs：a query string.\n",
    "- Expected outputs：a (33, 5) result.\n",
    "\n",
    "```\n",
    "   tricode               player_name   ppg   rpg  apg\n",
    "0      BKN         LaMarcus Aldridge  19.4   8.3  2.0\n",
    "1      BKN              Kevin Durant  27.1   7.1  4.1\n",
    "2      BKN                Jeff Green  12.8   4.4  1.6\n",
    "3      BKN            DeAndre Jordan   9.4  10.6  1.0\n",
    "4      BKN             Blake Griffin  21.3   8.7  4.4\n",
    "5      BKN              James Harden  25.2   5.5  6.5\n",
    "6      BKN              Kyrie Irving  22.8   3.8  5.7\n",
    "7      BKN         Spencer Dinwiddie  12.9   2.8  5.0\n",
    "8      BKN                Joe Harris  10.9   3.2  1.6\n",
    "9      BKN             Tyler Johnson  10.0   3.1  2.3\n",
    "10     BKN   Timothe Luwawu-Cabarrot   6.3   2.1  0.9\n",
    "11     BKN               Bruce Brown   6.8   3.7  2.2\n",
    "12     BKN             Alize Johnson   2.2   2.6  0.3\n",
    "13     BKN             Landry Shamet   8.9   1.8  1.5\n",
    "14     BKN             Chris Chiozza   4.1   1.4  2.6\n",
    "15     BKN              Reggie Perry   4.1   3.9  0.9\n",
    "16     BKN           Nicolas Claxton   6.6   3.8  0.9\n",
    "17     LAL              LeBron James  27.0   7.4  7.4\n",
    "18     LAL              Jared Dudley   7.3   3.2  1.5\n",
    "19     LAL                Marc Gasol  14.2   7.4  3.4\n",
    "20     LAL           Wesley Matthews  12.7   3.0  2.1\n",
    "21     LAL           Markieff Morris  11.1   5.3  1.6\n",
    "22     LAL             Anthony Davis  23.9  10.3  2.3\n",
    "23     LAL            Andre Drummond  14.6  13.8  1.4\n",
    "24     LAL           Dennis Schroder  14.2   2.9  4.6\n",
    "25     LAL  Kentavious Caldwell-Pope  11.3   3.1  1.6\n",
    "26     LAL          Montrezl Harrell  13.0   5.2  1.3\n",
    "27     LAL               Alex Caruso   5.6   2.3  2.2\n",
    "28     LAL          Alfonzo McKinnie   4.0   2.6  0.3\n",
    "29     LAL                Kyle Kuzma  15.4   5.7  1.9\n",
    "30     LAL      Kostas Antetokounmpo   1.1   1.0  0.1\n",
    "31     LAL       Talen Horton-Tucker   7.6   2.4  2.1\n",
    "32     LAL            Devontae Cacok   2.2   1.8  0.2\n",
    "```"
   ]
  },
  {
   "cell_type": "code",
   "execution_count": 6,
   "metadata": {},
   "outputs": [],
   "source": [
    "find_lakers_nets_career_stats =\\\n",
    "\"\"\"\n",
    "-- BEGIN SOLUTION\n",
    "select tricode, firstName || \" \" || lastName AS player_name , ppg, rpg , apg\n",
    "from players AS p\n",
    "Join career_summaries AS c on p.personId = c.personId\n",
    "Join teams AS t on p.teamId = t.teamId\n",
    "WHERE fullName = \"Los Angeles Lakers\" OR fullName = \"Brooklyn Nets\"\n",
    "order by tricode ASC;\n",
    "-- END SOLUTION\n",
    "\"\"\""
   ]
  },
  {
   "cell_type": "markdown",
   "metadata": {
    "deletable": false,
    "editable": false
   },
   "source": [
    "## Run tests！\n",
    "\n",
    "Kernel -> Restart & Run All -> Restart and Run All Cells."
   ]
  },
  {
   "cell_type": "code",
   "execution_count": 7,
   "metadata": {
    "deletable": false,
    "editable": false
   },
   "outputs": [
    {
     "name": "stderr",
     "output_type": "stream",
     "text": [
      "test_01_summarize_daily_report_by_countries (__main__.TestMidterm) ... ok\n",
      "test_02_summarize_daily_report_of_us_by_states (__main__.TestMidterm) ... ok\n",
      "test_03_find_casting_of_batman_trilogy (__main__.TestMidterm) ... ok\n",
      "test_04_find_leading_actors_from_steven_spielbergs_movies (__main__.TestMidterm) ... ok\n",
      "test_05_find_lakers_nets_career_stats (__main__.TestMidterm) ... ok\n",
      "\n",
      "----------------------------------------------------------------------\n",
      "Ran 5 tests in 0.156s\n",
      "\n",
      "OK\n"
     ]
    }
   ],
   "source": [
    "class TestMidterm(unittest.TestCase):\n",
    "    def test_01_summarize_daily_report_by_countries(self):\n",
    "        daily_report_by_countries = pd.read_sql(summarize_daily_report_by_countries, conn)\n",
    "        self.assertEqual(daily_report_by_countries.shape, (192, 3))\n",
    "        countries = daily_report_by_countries.iloc[:, 0].values\n",
    "        self.assertTrue('US' in countries)\n",
    "        self.assertTrue('Brazil' in countries)\n",
    "        self.assertTrue('India' in countries)\n",
    "        self.assertTrue('France' in countries)\n",
    "        self.assertTrue('Russia' in countries)\n",
    "    def test_02_summarize_daily_report_of_us_by_states(self):\n",
    "        daily_report_of_us_by_states = pd.read_sql(summarize_daily_report_of_us_by_states, conn)\n",
    "        self.assertEqual(daily_report_of_us_by_states.shape, (20, 4))\n",
    "        iso_three = set(daily_report_of_us_by_states.iloc[:, 0].values)\n",
    "        self.assertTrue('USA' in iso_three)\n",
    "        states = daily_report_of_us_by_states.iloc[:, 1].values\n",
    "        self.assertTrue('California' in states)\n",
    "        self.assertTrue('Texas' in states)\n",
    "        self.assertTrue('Florida' in states)\n",
    "        self.assertTrue('New York' in states)\n",
    "        self.assertTrue('Illinois' in states)     \n",
    "    def test_03_find_casting_of_batman_trilogy(self):\n",
    "        casting_of_batman_trilogy = pd.read_sql(find_casting_of_batman_trilogy, conn)\n",
    "        self.assertEqual(casting_of_batman_trilogy.shape, (45, 4))\n",
    "        director = set(casting_of_batman_trilogy.iloc[:, 0].values)\n",
    "        self.assertTrue('Christopher Nolan' in director)\n",
    "        titles = set(casting_of_batman_trilogy.iloc[:, 2].values)\n",
    "        self.assertTrue('Batman Begins' in titles)\n",
    "        self.assertTrue('The Dark Knight' in titles)\n",
    "        self.assertTrue('The Dark Knight Rises' in titles)\n",
    "        actor_names = casting_of_batman_trilogy.iloc[:, 3].values\n",
    "        self.assertTrue('Christian Bale' in actor_names)\n",
    "        self.assertTrue('Heath Ledger' in actor_names)\n",
    "        self.assertTrue('Anne Hathaway' in actor_names)\n",
    "    def test_04_find_leading_actors_from_steven_spielbergs_movies(self):\n",
    "        leading_actors_from_steven_spielbergs_movies = pd.read_sql(find_leading_actors_from_steven_spielbergs_movies, conn)\n",
    "        self.assertEqual(leading_actors_from_steven_spielbergs_movies.shape, (12, 3))\n",
    "        titles = leading_actors_from_steven_spielbergs_movies.iloc[:, 0].values\n",
    "        self.assertTrue('Schindler\\'s List' in titles)\n",
    "        self.assertTrue('Catch Me If You Can' in titles)\n",
    "        names = leading_actors_from_steven_spielbergs_movies.iloc[:, 2].values\n",
    "        self.assertTrue('Liam Neeson' in names)\n",
    "        self.assertTrue('Leonardo DiCaprio' in names)\n",
    "        self.assertTrue('Tom Hanks' in names)\n",
    "    def test_05_find_lakers_nets_career_stats(self):\n",
    "        lakers_nets_career_stats = pd.read_sql(find_lakers_nets_career_stats, conn)\n",
    "        self.assertEqual(lakers_nets_career_stats.shape, (33, 5))\n",
    "        tricodes = set(lakers_nets_career_stats.iloc[:, 0].values)\n",
    "        self.assertTrue('BKN' in tricodes)\n",
    "        self.assertTrue('LAL' in tricodes)\n",
    "        players = lakers_nets_career_stats.iloc[:, 1].values\n",
    "        self.assertTrue('Kevin Durant' in players)\n",
    "        self.assertTrue('James Harden' in players)\n",
    "        self.assertTrue('Kyrie Irving' in players)\n",
    "        self.assertTrue('LeBron James' in players)\n",
    "        self.assertTrue('Anthony Davis' in players)\n",
    "        \n",
    "suite = unittest.TestLoader().loadTestsFromTestCase(TestMidterm)\n",
    "runner = unittest.TextTestRunner(verbosity=2)\n",
    "test_results = runner.run(suite)\n",
    "number_of_failures = len(test_results.failures)\n",
    "number_of_errors = len(test_results.errors)\n",
    "number_of_test_runs = test_results.testsRun\n",
    "number_of_successes = number_of_test_runs - (number_of_failures + number_of_errors)"
   ]
  },
  {
   "cell_type": "code",
   "execution_count": 8,
   "metadata": {
    "deletable": false,
    "editable": false
   },
   "outputs": [
    {
     "name": "stdout",
     "output_type": "stream",
     "text": [
      "You've got 15 points among 5 questions.\n"
     ]
    }
   ],
   "source": [
    "print(\"You've got {} points among {} questions.\".format(number_of_successes * 3, number_of_test_runs))"
   ]
  }
 ],
 "metadata": {
  "kernelspec": {
   "display_name": "Python 3",
   "language": "python",
   "name": "python3"
  },
  "language_info": {
   "codemirror_mode": {
    "name": "ipython",
    "version": 3
   },
   "file_extension": ".py",
   "mimetype": "text/x-python",
   "name": "python",
   "nbconvert_exporter": "python",
   "pygments_lexer": "ipython3",
   "version": "3.8.6"
  }
 },
 "nbformat": 4,
 "nbformat_minor": 4
}
